import requests
from bs4 import BeautifulSoup

def count_word_in_titles(word):
    url = 'https://tass.ru/search'
    try:
        response = requests.get(url, timeout=10)
        response.raise_for_status()  # Raises HTTPError for bad responses
    except requests.exceptions.HTTPError as http_err:
        print(f'HTTP error occurred: {http_err}')  # e.g., 404 Not Found
        return None
    except requests.exceptions.ConnectionError as conn_err:
        print(f'Connection error occurred: {conn_err}')  # e.g., DNS failure
        return None
    except requests.exceptions.Timeout as timeout_err:
        print(f'Timeout error occurred: {timeout_err}')  # Request timed out
        return None
    except requests.exceptions.RequestException as req_err:
        print(f'An error occurred: {req_err}')  # Any other requests exceptions
        return None

    # Proceed if no exceptions were raised
    soup = BeautifulSoup(response.content, 'html.parser')

    # Attempt to find article titles with known class names
    title_classes = ['tass_pkg_link-v5WdK tass_pkg_card_wrapper-r-hZB tass_pkg_card_wrapper--fixed-aaYyN tass_pkg_card_wrapper--mobile-shqUh tass_pkg_card_wrapper--extra_large-uKpvC']  # Add or modify class names as needed
    titles = []
    for class_name in title_classes:
        titles.extend(soup.find_all('a', class_=class_name))

    if not titles:
        print('No article titles found.')
        return None

    count = sum(1 for title in titles if word.lower() in title.get_text().lower())
    return count

# Example usage:
word_to_search = 'Россия'  # Replace with your word of interest
count = count_word_in_titles(word_to_search)
if count is not None:
    print(f"The word '{word_to_search}' appears in {count} article titles.")
else:
    print("An error occurred while fetching the article titles.")
